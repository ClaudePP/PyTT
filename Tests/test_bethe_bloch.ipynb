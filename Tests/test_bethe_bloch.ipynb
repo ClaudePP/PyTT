{
 "cells": [
  {
   "cell_type": "code",
   "execution_count": 1,
   "id": "4a756685",
   "metadata": {},
   "outputs": [
    {
     "name": "stdout",
     "output_type": "stream",
     "text": [
      "ParticleBank debug: ParticleFileName is: ParticleInfo/Default.txt\n"
     ]
    }
   ],
   "source": [
    "import numpy as np\n",
    "from scipy import constants\n",
    "\n",
    "from Modules import RelativisticFormulas as re\n",
    "from Modules import NecessaryVariables as nv\n",
    "from Modules import BetheBloch as bb\n",
    "from Modules import MaterialBank as mb\n",
    "from Modules import ParticleBank as pb"
   ]
  },
  {
   "cell_type": "code",
   "execution_count": 7,
   "id": "3d306e9b",
   "metadata": {},
   "outputs": [
    {
     "name": "stdout",
     "output_type": "stream",
     "text": [
      "MaterialBank Emissivity for segments of the target: \n",
      "[[0]]\n",
      "MaterialBank Cp for segments of the target: \n",
      "[[0]]\n",
      "MaterialBank Wf for segments of the target: \n",
      "300, 5\n",
      "ParticleBank debug: ParticleFileName is: ParticleInfo/Proton.txt\n"
     ]
    }
   ],
   "source": [
    "target = mb.Material(\"MaterialInfo/Carbon.txt\")\n",
    "target.rho = 2.0\n",
    "JtoMeV = 6241506479963.2 # MeV\n",
    "particle = pb.Particle(\"ParticleInfo/Proton.txt\")"
   ]
  },
  {
   "cell_type": "code",
   "execution_count": 2,
   "id": "008483a1",
   "metadata": {},
   "outputs": [
    {
     "name": "stdout",
     "output_type": "stream",
     "text": [
      "Ebeam [MeV] =  590.0\n"
     ]
    },
    {
     "ename": "NameError",
     "evalue": "name 're' is not defined",
     "output_type": "error",
     "traceback": [
      "\u001b[0;31m---------------------------------------------------------------------------\u001b[0m",
      "\u001b[0;31mNameError\u001b[0m                                 Traceback (most recent call last)",
      "Cell \u001b[0;32mIn[2], line 5\u001b[0m\n\u001b[1;32m      2\u001b[0m \u001b[38;5;66;03m#bene=590.0  # [MeV]\u001b[39;00m\n\u001b[1;32m      4\u001b[0m \u001b[38;5;28mprint\u001b[39m(\u001b[38;5;124m\"\u001b[39m\u001b[38;5;124mEbeam [MeV] = \u001b[39m\u001b[38;5;124m\"\u001b[39m,bene)\n\u001b[0;32m----> 5\u001b[0m bet,gam\u001b[38;5;241m=\u001b[39m\u001b[43mre\u001b[49m\u001b[38;5;241m.\u001b[39mbeta_gamma_from_energy(bene,constants\u001b[38;5;241m.\u001b[39mphysical_constants[\u001b[38;5;124m\"\u001b[39m\u001b[38;5;124mproton mass energy equivalent in MeV\u001b[39m\u001b[38;5;124m\"\u001b[39m][\u001b[38;5;241m0\u001b[39m])\n\u001b[1;32m      6\u001b[0m \u001b[38;5;28mprint\u001b[39m(\u001b[38;5;124m\"\u001b[39m\u001b[38;5;124mEmax, v1 [MeV] = \u001b[39m\u001b[38;5;124m\"\u001b[39m,bb\u001b[38;5;241m.\u001b[39mTmax(gam,constants\u001b[38;5;241m.\u001b[39mphysical_constants[\u001b[38;5;124m\"\u001b[39m\u001b[38;5;124mproton mass energy equivalent in MeV\u001b[39m\u001b[38;5;124m\"\u001b[39m][\u001b[38;5;241m0\u001b[39m]))\n\u001b[1;32m      7\u001b[0m \u001b[38;5;28mprint\u001b[39m(\u001b[38;5;124m\"\u001b[39m\u001b[38;5;124mEmax, v2 [MeV] = \u001b[39m\u001b[38;5;124m\"\u001b[39m,JtoMeV\u001b[38;5;241m*\u001b[39mbb\u001b[38;5;241m.\u001b[39mTmaxv2(gam,constants\u001b[38;5;241m.\u001b[39mphysical_constants[\u001b[38;5;124m\"\u001b[39m\u001b[38;5;124mproton mass\u001b[39m\u001b[38;5;124m\"\u001b[39m][\u001b[38;5;241m0\u001b[39m]))\n",
      "\u001b[0;31mNameError\u001b[0m: name 're' is not defined"
     ]
    }
   ],
   "source": [
    "bene=590.0  # [MeV]\n",
    "#bene=590.0  # [MeV]\n",
    "\n",
    "print(\"Ebeam [MeV] = \",bene)\n",
    "bet,gam=re.beta_gamma_from_energy(bene,constants.physical_constants[\"proton mass energy equivalent in MeV\"][0])\n",
    "print(\"Emax, v1 [MeV] = \",bb.Tmax(gam,constants.physical_constants[\"proton mass energy equivalent in MeV\"][0]))\n",
    "print(\"Emax, v2 [MeV] = \",JtoMeV*bb.Tmaxv2(gam,constants.physical_constants[\"proton mass\"][0]))\n",
    "\n",
    "print(\"DEDX [MeV*cm2/g] = \",bb.BetheBloch(particle, bene, target))\n",
    "print(\"Edep [keV] = \",bb.BetheBloch(particle, bene, target)*0.0033*1000*2*np.pi/4)"
   ]
  },
  {
   "cell_type": "code",
   "execution_count": 10,
   "id": "5d7b7851",
   "metadata": {},
   "outputs": [
    {
     "name": "stdout",
     "output_type": "stream",
     "text": [
      "Ebeam [MeV] =  3000.0\n",
      "Emax, v1 [MeV] =  16.906147991063154\n",
      "Emax, v2 [MeV] =  16.906140963315945\n",
      "DEDX [MeV*cm2/g] =  1.7162562587074732\n",
      "Edep [keV] =  8.896433789154287\n"
     ]
    }
   ],
   "source": [
    "#bene=3000.0  # [MeV]\n",
    "print(\"Ebeam [MeV] = \",bene)\n",
    "bet,gam=re.beta_gamma_from_energy(bene,constants.physical_constants[\"proton mass energy equivalent in MeV\"][0])\n",
    "\n",
    "print(\"Emax, v1 [MeV] = \",bb.Tmax(gam,constants.physical_constants[\"proton mass energy equivalent in MeV\"][0]))\n",
    "print(\"Emax, v2 [MeV] = \",JtoMeV*bb.Tmaxv2(gam,constants.physical_constants[\"proton mass\"][0]))\n",
    "\n",
    "print(\"DEDX [MeV*cm2/g] = \",bb.BetheBloch(particle, bene, target))\n",
    "print(\"Edep [keV] = \",bb.BetheBloch(particle, bene, target)*0.0033*1000*2*np.pi/4)"
   ]
  },
  {
   "cell_type": "code",
   "execution_count": 12,
   "id": "b7e4df90",
   "metadata": {},
   "outputs": [
    {
     "name": "stdout",
     "output_type": "stream",
     "text": [
      "Ebeam [MeV] =  450000.0\n",
      "0.9999978353191468 480.6050161552533\n",
      "Emax, v1 [MeV] =  154947.52584780136\n",
      "Emax, v2 [MeV] =  154947.46143780614\n",
      "DEDX [MeV*cm2/g] =  3.042798623692252\n",
      "Edep [keV] =  15.772735774198777\n"
     ]
    }
   ],
   "source": [
    "bene=450000.0  # [MeV]\n",
    "print(\"Ebeam [MeV] = \",bene)\n",
    "bet,gam=re.beta_gamma_from_energy(bene,constants.physical_constants[\"proton mass energy equivalent in MeV\"][0])\n",
    "print(bet,gam)\n",
    "print(\"Emax, v1 [MeV] = \",bb.Tmax(gam,constants.physical_constants[\"proton mass energy equivalent in MeV\"][0]))\n",
    "print(\"Emax, v2 [MeV] = \",JtoMeV*bb.Tmaxv2(gam,constants.physical_constants[\"proton mass\"][0]))\n",
    "\n",
    "print(\"DEDX [MeV*cm2/g] = \",bb.BetheBloch(particle, bene, target))\n",
    "print(\"Edep [keV] = \",bb.BetheBloch(particle, bene, target)*0.0033*1000*2*np.pi/4)"
   ]
  },
  {
   "cell_type": "code",
   "execution_count": null,
   "id": "1e1746b0",
   "metadata": {},
   "outputs": [],
   "source": []
  }
 ],
 "metadata": {
  "kernelspec": {
   "display_name": "Python 3 (ipykernel)",
   "language": "python",
   "name": "python3"
  },
  "language_info": {
   "codemirror_mode": {
    "name": "ipython",
    "version": 3
   },
   "file_extension": ".py",
   "mimetype": "text/x-python",
   "name": "python",
   "nbconvert_exporter": "python",
   "pygments_lexer": "ipython3",
   "version": "3.11.9"
  }
 },
 "nbformat": 4,
 "nbformat_minor": 5
}
