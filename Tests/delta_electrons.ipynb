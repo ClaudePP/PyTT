{
 "cells": [
  {
   "cell_type": "markdown",
   "id": "0d805969",
   "metadata": {},
   "source": [
    "# delta electron cross section"
   ]
  },
  {
   "cell_type": "code",
   "execution_count": 4,
   "id": "456c2825",
   "metadata": {},
   "outputs": [],
   "source": [
    "from Modules import DeltaElectrons as de\n",
    "\n",
    "from matplotlib import pyplot as plt\n",
    "import numpy as np"
   ]
  },
  {
   "cell_type": "code",
   "execution_count": 5,
   "id": "765d0df0",
   "metadata": {},
   "outputs": [],
   "source": [
    "#ened = np.logspace(-3,1.2,30)  # electron energies in eV\n",
    "ened = np.linspace(0.01,100000,120)  # electron energies in eV\n"
   ]
  },
  {
   "cell_type": "code",
   "execution_count": null,
   "id": "5004c2a9",
   "metadata": {},
   "outputs": [],
   "source": [
    "# projectile energy\n",
    "Ep=590e6   # [eV]\n",
    "\n",
    "\n",
    "# delta electron differential cross section\n",
    "decs = de.DiffCrossSection(ened,)\n"
   ]
  }
 ],
 "metadata": {
  "kernelspec": {
   "display_name": "Python 3 (ipykernel)",
   "language": "python",
   "name": "python3"
  },
  "language_info": {
   "codemirror_mode": {
    "name": "ipython",
    "version": 3
   },
   "file_extension": ".py",
   "mimetype": "text/x-python",
   "name": "python",
   "nbconvert_exporter": "python",
   "pygments_lexer": "ipython3",
   "version": "3.11.7"
  }
 },
 "nbformat": 4,
 "nbformat_minor": 5
}
