{
 "cells": [
  {
   "cell_type": "markdown",
   "id": "e1d36578",
   "metadata": {},
   "source": [
    "calculates secondary emission zone of a wire\n",
    "\n",
    "2024.05.29, mariusz.sapinski@psi.ch"
   ]
  },
  {
   "cell_type": "code",
   "execution_count": 1,
   "id": "ddfa60be",
   "metadata": {},
   "outputs": [
    {
     "name": "stdout",
     "output_type": "stream",
     "text": [
      "ParticleBank debug: ParticleFileName is: ParticleInfo/Default.txt\n"
     ]
    }
   ],
   "source": [
    "from Modules import SecondaryElectrons as se\n",
    "from Modules import MaterialBank\n",
    "from Modules import NecessaryVariables as nv"
   ]
  },
  {
   "cell_type": "code",
   "execution_count": 2,
   "id": "675b4773",
   "metadata": {},
   "outputs": [
    {
     "name": "stdout",
     "output_type": "stream",
     "text": [
      "MaterialBank Emissivity for segments of the target: \n",
      "[[0]]\n",
      "MaterialBank Cp for segments of the target: \n",
      "[[0]]\n",
      "MaterialBank Wf for segments of the target: \n",
      "300, 5\n"
     ]
    }
   ],
   "source": [
    "nv.Material = MaterialBank.Material(\"MaterialInfo/Carbon.txt\")"
   ]
  },
  {
   "cell_type": "code",
   "execution_count": 3,
   "id": "e5b24d2e",
   "metadata": {},
   "outputs": [
    {
     "data": {
      "text/plain": [
       "1.3602891528910147e-07"
      ]
     },
     "execution_count": 3,
     "metadata": {},
     "output_type": "execute_result"
    }
   ],
   "source": [
    "# elecgtron penetration depth in cm:\n",
    "se.ElectronPenetrationLength()"
   ]
  },
  {
   "cell_type": "code",
   "execution_count": null,
   "id": "09ace85a",
   "metadata": {},
   "outputs": [],
   "source": []
  },
  {
   "cell_type": "code",
   "execution_count": null,
   "id": "dd178168",
   "metadata": {},
   "outputs": [],
   "source": []
  }
 ],
 "metadata": {
  "kernelspec": {
   "display_name": "Python 3 (ipykernel)",
   "language": "python",
   "name": "python3"
  },
  "language_info": {
   "codemirror_mode": {
    "name": "ipython",
    "version": 3
   },
   "file_extension": ".py",
   "mimetype": "text/x-python",
   "name": "python",
   "nbconvert_exporter": "python",
   "pygments_lexer": "ipython3",
   "version": "3.11.7"
  }
 },
 "nbformat": 4,
 "nbformat_minor": 5
}
