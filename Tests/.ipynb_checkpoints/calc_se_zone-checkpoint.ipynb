{
 "cells": [
  {
   "cell_type": "markdown",
   "id": "e1d36578",
   "metadata": {},
   "source": [
    "calculates secondary emission zone of a wire, the SEY and the SEY dependence on proton energy plot\n",
    "\n",
    "2024.05.29, mariusz.sapinski@psi.ch"
   ]
  },
  {
   "cell_type": "code",
   "execution_count": 1,
   "id": "ddfa60be",
   "metadata": {},
   "outputs": [
    {
     "name": "stdout",
     "output_type": "stream",
     "text": [
      "ParticleBank debug: ParticleFileName is: ParticleInfo/Default.txt\n"
     ]
    }
   ],
   "source": [
    "from Modules import SecondaryElectrons as se\n",
    "from Modules import MaterialBank as mb\n",
    "from Modules import NecessaryVariables as nv\n",
    "from Modules import BetheBloch as bb\n",
    "from Modules import ParticleBank as pb"
   ]
  },
  {
   "cell_type": "code",
   "execution_count": 17,
   "id": "675b4773",
   "metadata": {},
   "outputs": [
    {
     "name": "stdout",
     "output_type": "stream",
     "text": [
      "MaterialBank Emissivity for segments of the target: \n",
      "[[0]]\n",
      "MaterialBank Cp for segments of the target: \n",
      "[[0]]\n",
      "MaterialBank Wf for segments of the target: \n",
      "300, 4\n"
     ]
    }
   ],
   "source": [
    "#nv.Material = mb.Material(\"MaterialInfo/Carbon.txt\")\n",
    "#nv.Material = mb.Material(\"MaterialInfo/Molybdenum.txt\")\n",
    "nv.Material = mb.Material(\"MaterialInfo/Tungsten.txt\")"
   ]
  },
  {
   "cell_type": "code",
   "execution_count": 18,
   "id": "e5b24d2e",
   "metadata": {},
   "outputs": [
    {
     "name": "stdout",
     "output_type": "stream",
     "text": [
      "target material density [g/cm3] =  19.35\n",
      "target material Z =  74.0\n",
      "Nv [1/cm3] = 6.948906657963446e+22\n"
     ]
    },
    {
     "data": {
      "text/plain": [
       "0.9314476758971917"
      ]
     },
     "execution_count": 18,
     "metadata": {},
     "output_type": "execute_result"
    }
   ],
   "source": [
    "print(\"target material density [g/cm3] = \",nv.Material.rho)\n",
    "print(\"target material Z = \",nv.Material.Z)\n",
    "\n",
    "# elecgtron penetration depth in nm:\n",
    "se.ElectronPenetrationLength()*1e7"
   ]
  },
  {
   "cell_type": "code",
   "execution_count": 19,
   "id": "2087e266",
   "metadata": {},
   "outputs": [
    {
     "name": "stdout",
     "output_type": "stream",
     "text": [
      "ParticleBank debug: ParticleFileName is: ParticleInfo/Proton.txt\n"
     ]
    }
   ],
   "source": [
    "# particle\n",
    "particle = pb.Particle(\"ParticleInfo/Proton.txt\")"
   ]
  },
  {
   "cell_type": "code",
   "execution_count": 22,
   "id": "09ace85a",
   "metadata": {},
   "outputs": [
    {
     "name": "stdout",
     "output_type": "stream",
     "text": [
      "DEDX [MeV*cm2/g] =  2.4517827692458654\n",
      "BEnergy_eV =  450000000000.0\n",
      "Nv [1/cm3] = 6.948906657963446e+22\n",
      "SEY =  8.837951148493785\n"
     ]
    }
   ],
   "source": [
    "#nv.BEnergy=590  # [MeV]\n",
    "#nv.BEnergy=3000  # [MeV]\n",
    "nv.BEnergy = 450000 # [MeV]\n",
    "nv.enemat = bb.BetheBloch(particle, nv.BEnergy, nv.Material)\n",
    "print(\"DEDX [MeV*cm2/g] = \",nv.enemat)\n",
    "\n",
    "print(\"SEY = \",200*se.SecondaryElectronYield())"
   ]
  },
  {
   "cell_type": "code",
   "execution_count": null,
   "id": "dd178168",
   "metadata": {},
   "outputs": [],
   "source": []
  }
 ],
 "metadata": {
  "kernelspec": {
   "display_name": "Python 3 (ipykernel)",
   "language": "python",
   "name": "python3"
  },
  "language_info": {
   "codemirror_mode": {
    "name": "ipython",
    "version": 3
   },
   "file_extension": ".py",
   "mimetype": "text/x-python",
   "name": "python",
   "nbconvert_exporter": "python",
   "pygments_lexer": "ipython3",
   "version": "3.11.9"
  }
 },
 "nbformat": 4,
 "nbformat_minor": 5
}
