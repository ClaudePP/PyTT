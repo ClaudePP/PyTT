{
 "cells": [
  {
   "cell_type": "code",
   "execution_count": 28,
   "id": "8013a8af",
   "metadata": {},
   "outputs": [],
   "source": [
    "import numpy as np\n",
    "from scipy import constants\n",
    "\n",
    "from Modules import RelativisticFormulas as re\n",
    "from Modules import NecessaryVariables as nv\n",
    "from Modules import BetheBloch as bb\n",
    "from Modules import MaterialBank as mb\n",
    "from Modules import ParticleBank as pb"
   ]
  },
  {
   "cell_type": "code",
   "execution_count": 29,
   "id": "8a13369b",
   "metadata": {},
   "outputs": [
    {
     "name": "stdout",
     "output_type": "stream",
     "text": [
      "MaterialBank Emissivity for segments of the target: \n",
      "[[0]]\n",
      "MaterialBank Cp for segments of the target: \n",
      "[[0]]\n",
      "MaterialBank Wf for segments of the target: \n",
      "300, 5\n",
      "ParticleBank debug: ParticleFileName is: ParticleInfo/Proton.txt\n"
     ]
    }
   ],
   "source": [
    "target = mb.Material(\"MaterialInfo/Carbon.txt\")\n",
    "target.rho = 2.0\n",
    "\n",
    "particle = pb.Particle(\"ParticleInfo/Proton.txt\")"
   ]
  },
  {
   "cell_type": "code",
   "execution_count": 23,
   "id": "5675b4aa",
   "metadata": {},
   "outputs": [
    {
     "name": "stdout",
     "output_type": "stream",
     "text": [
      "Ebeam [MeV] =  590.0\n",
      "DEDX [MeV*cm2/g] =  2.102694715960935\n",
      "Edep [keV] =  10.899586949468167\n"
     ]
    }
   ],
   "source": [
    "bene=590.0  # [MeV]\n",
    "print(\"Ebeam [MeV] = \",bene)\n",
    "bet,gam=re.beta_gamma_from_energy(bene,constants.physical_constants[\"proton mass energy equivalent in MeV\"][0])\n",
    "print(\"Emax, v1 [MeV] = \",bb.Rmax)\n",
    "print(\"DEDX [MeV*cm2/g] = \",bb.BetheBloch(particle, bene, target))\n",
    "print(\"Edep [keV] = \",bb.BetheBloch(particle, bene, target)*0.0033*1000*2*np.pi/4)"
   ]
  },
  {
   "cell_type": "code",
   "execution_count": 24,
   "id": "c24cdcb8",
   "metadata": {},
   "outputs": [
    {
     "name": "stdout",
     "output_type": "stream",
     "text": [
      "Ebeam [MeV] =  3000.0\n",
      "DEDX [MeV*cm2/g] =  1.7162562587074732\n",
      "Edep [keV] =  8.896433789154287\n"
     ]
    }
   ],
   "source": [
    "bene=3000.0  # [MeV]\n",
    "print(\"Ebeam [MeV] = \",bene)\n",
    "print(\"DEDX [MeV*cm2/g] = \",bb.BetheBloch(particle, bene, target))\n",
    "print(\"Edep [keV] = \",bb.BetheBloch(particle, bene, target)*0.0033*1000*2*np.pi/4)"
   ]
  },
  {
   "cell_type": "code",
   "execution_count": 25,
   "id": "09e54df3",
   "metadata": {},
   "outputs": [
    {
     "name": "stdout",
     "output_type": "stream",
     "text": [
      "Ebeam [MeV] =  450000.0\n",
      "DEDX [MeV*cm2/g] =  3.042798623692252\n",
      "Edep [keV] =  15.772735774198777\n"
     ]
    }
   ],
   "source": [
    "bene=450000.0  # [MeV]\n",
    "print(\"Ebeam [MeV] = \",bene)\n",
    "print(\"DEDX [MeV*cm2/g] = \",bb.BetheBloch(particle, bene, target))\n",
    "print(\"Edep [keV] = \",bb.BetheBloch(particle, bene, target)*0.0033*1000*2*np.pi/4)"
   ]
  },
  {
   "cell_type": "code",
   "execution_count": null,
   "id": "8bb32bf8",
   "metadata": {},
   "outputs": [],
   "source": []
  }
 ],
 "metadata": {
  "kernelspec": {
   "display_name": "Python 3 (ipykernel)",
   "language": "python",
   "name": "python3"
  },
  "language_info": {
   "codemirror_mode": {
    "name": "ipython",
    "version": 3
   },
   "file_extension": ".py",
   "mimetype": "text/x-python",
   "name": "python",
   "nbconvert_exporter": "python",
   "pygments_lexer": "ipython3",
   "version": "3.11.9"
  }
 },
 "nbformat": 4,
 "nbformat_minor": 5
}
