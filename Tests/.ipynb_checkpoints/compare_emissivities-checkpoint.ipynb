{
 "cells": [
  {
   "cell_type": "markdown",
   "id": "220ea228-162c-48b9-b434-c2f97249d00f",
   "metadata": {},
   "source": [
    "compare emissivities of two materials\n",
    "(Mo and W)\n",
    "\n",
    "2025.02.20\n"
   ]
  },
  {
   "cell_type": "code",
   "execution_count": 1,
   "id": "9bcd1c54-cbcd-4f0b-9558-c33238e421d0",
   "metadata": {},
   "outputs": [
    {
     "name": "stdout",
     "output_type": "stream",
     "text": [
      "ParticleBank debug: ParticleFileName is: ParticleInfo/Default.txt\n"
     ]
    }
   ],
   "source": [
    "from Modules import MaterialBank as mb\n",
    "from Modules import NecessaryVariables as nv\n",
    "import numpy as np\n"
   ]
  },
  {
   "cell_type": "code",
   "execution_count": 2,
   "id": "ccb2a9a3-3d2c-4f6d-bb64-e0caba986cc7",
   "metadata": {},
   "outputs": [
    {
     "name": "stdout",
     "output_type": "stream",
     "text": [
      "DEBUG MaterialBank:GetEmissivity =  [[0.99]]\n",
      "0 0 0.0625\n",
      "DEBUG MaterialBank:GetEmissivity =  [[0.99]]\n",
      "0 0 0.06\n"
     ]
    }
   ],
   "source": [
    "mat1 = mb.Material(\"MaterialInfo/Tungsten.txt\")\n",
    "mat2 = mb.Material(\"MaterialInfo/Molybdenum.txt\")\n"
   ]
  },
  {
   "cell_type": "code",
   "execution_count": 3,
   "id": "42d56b52-da05-41cf-8cc0-88f84d5d0375",
   "metadata": {},
   "outputs": [
    {
     "name": "stdout",
     "output_type": "stream",
     "text": [
      "material 1 density [g/cm3] =  19.35\n",
      "material 2 density [g/cm3] =  10.28\n"
     ]
    }
   ],
   "source": [
    "print(\"material 1 density [g/cm3] = \",mat1.rho)\n",
    "print(\"material 2 density [g/cm3] = \",mat2.rho)\n"
   ]
  },
  {
   "cell_type": "code",
   "execution_count": 5,
   "id": "b43f3540-85a9-4884-82a2-e0ba35a41893",
   "metadata": {},
   "outputs": [
    {
     "ename": "SyntaxError",
     "evalue": "'[' was never closed (2331071014.py, line 2)",
     "output_type": "error",
     "traceback": [
      "\u001b[0;36m  Cell \u001b[0;32mIn[5], line 2\u001b[0;36m\u001b[0m\n\u001b[0;31m    tmp= np.array([np.array(np.arange(300,2200,100))\u001b[0m\n\u001b[0m                  ^\u001b[0m\n\u001b[0;31mSyntaxError\u001b[0m\u001b[0;31m:\u001b[0m '[' was never closed\n"
     ]
    }
   ],
   "source": [
    "tmp=[[300,1000,2200]]\n",
    "tmp= np.array([np.array(np.arange(300,2200,100))])\n",
    "print(\"temperatures = \",tmp)\n",
    "print(mat2.GetEmissivity(tmp))\n",
    "\n",
    "    "
   ]
  },
  {
   "cell_type": "code",
   "execution_count": null,
   "id": "9a518df7-cb06-4ea7-ac25-1c09dba91560",
   "metadata": {},
   "outputs": [],
   "source": []
  },
  {
   "cell_type": "code",
   "execution_count": null,
   "id": "9c2901e2-9bac-40f5-9022-7464826f2730",
   "metadata": {},
   "outputs": [],
   "source": []
  }
 ],
 "metadata": {
  "kernelspec": {
   "display_name": "Python 3 (ipykernel)",
   "language": "python",
   "name": "python3"
  },
  "language_info": {
   "codemirror_mode": {
    "name": "ipython",
    "version": 3
   },
   "file_extension": ".py",
   "mimetype": "text/x-python",
   "name": "python",
   "nbconvert_exporter": "python",
   "pygments_lexer": "ipython3",
   "version": "3.13.1"
  }
 },
 "nbformat": 4,
 "nbformat_minor": 5
}
