{
 "cells": [
  {
   "cell_type": "markdown",
   "id": "4ca80ef5",
   "metadata": {},
   "source": [
    "# to overlap two simutation results\n",
    "# 2024.05.22 mariusz.sapinski@psi.ch"
   ]
  },
  {
   "cell_type": "code",
   "execution_count": 2,
   "id": "911b7d94",
   "metadata": {},
   "outputs": [],
   "source": [
    "import matplotlib.pyplot as plt\n",
    "import pandas as pd\n",
    "from scipy.optimize import curve_fit\n",
    "import numpy as np"
   ]
  },
  {
   "cell_type": "code",
   "execution_count": 3,
   "id": "109cc506",
   "metadata": {},
   "outputs": [
    {
     "name": "stdout",
     "output_type": "stream",
     "text": [
      "CERN_SPS_WS_2008.txt \n",
      "\n"
     ]
    }
   ],
   "source": [
    "# read simulation configuration file name\n",
    "with open(\"CERN_SPS_BWS_2008_01mps.txt\") as f:\n",
    "    cfname=f.readlines()[1]\n",
    "confname1=cfname[26:]    \n",
    "print(confname1)    "
   ]
  },
  {
   "cell_type": "code",
   "execution_count": null,
   "id": "93d1b750",
   "metadata": {},
   "outputs": [],
   "source": []
  }
 ],
 "metadata": {
  "kernelspec": {
   "display_name": "Python 3 (ipykernel)",
   "language": "python",
   "name": "python3"
  },
  "language_info": {
   "codemirror_mode": {
    "name": "ipython",
    "version": 3
   },
   "file_extension": ".py",
   "mimetype": "text/x-python",
   "name": "python",
   "nbconvert_exporter": "python",
   "pygments_lexer": "ipython3",
   "version": "3.11.7"
  }
 },
 "nbformat": 4,
 "nbformat_minor": 5
}
