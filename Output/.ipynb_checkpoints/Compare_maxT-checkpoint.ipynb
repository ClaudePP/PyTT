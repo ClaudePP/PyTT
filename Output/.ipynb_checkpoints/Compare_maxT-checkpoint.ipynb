{
 "cells": [
  {
   "cell_type": "markdown",
   "id": "445af158",
   "metadata": {},
   "source": [
    "# compares 2 Max temp files\n",
    "\n",
    "2023.11.15 mariusz.sapinski@psi.ch"
   ]
  },
  {
   "cell_type": "code",
   "execution_count": 1,
   "id": "76e55f99",
   "metadata": {},
   "outputs": [],
   "source": [
    "import matplotlib.pyplot as plt\n",
    "import pandas as pd"
   ]
  },
  {
   "cell_type": "code",
   "execution_count": 2,
   "id": "6810737e",
   "metadata": {},
   "outputs": [],
   "source": [
    "df1 = pd.read_csv(\"MaxTempVSTime_CERN_LHC_BetheBloch.txt\", skiprows=3, delim_whitespace=True, names=[\"em\",\"time\",\"maxT\"])\n",
    "df2 = pd.read_csv(\"MaxTempVSTime_CERN_LHC_Value.txt\", skiprows=3, delim_whitespace=True, names=[\"em\",\"time\",\"maxT\"])"
   ]
  },
  {
   "cell_type": "code",
   "execution_count": null,
   "id": "76014f76",
   "metadata": {},
   "outputs": [],
   "source": [
    "plt.plot([x/1e6 for x in df1[\"time\"]],df1[\"maxT\"],label=\"Bethe-Bloch\")\n",
    "plt.plot([x/1e6 for x in df2[\"time\"]],df2[\"maxT\"],label=\"Geant4\")\n",
    "plt.xlabel(\"time [s]\")\n",
    "plt.ylabel(\"max temperature [K]\")\n",
    "plt.legend()"
   ]
  }
 ],
 "metadata": {
  "kernelspec": {
   "display_name": "Python 3 (ipykernel)",
   "language": "python",
   "name": "python3"
  },
  "language_info": {
   "codemirror_mode": {
    "name": "ipython",
    "version": 3
   },
   "file_extension": ".py",
   "mimetype": "text/x-python",
   "name": "python",
   "nbconvert_exporter": "python",
   "pygments_lexer": "ipython3",
   "version": "3.11.5"
  }
 },
 "nbformat": 4,
 "nbformat_minor": 5
}
