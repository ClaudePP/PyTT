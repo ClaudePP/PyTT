{
 "cells": [
  {
   "cell_type": "markdown",
   "id": "c3dcb6f1",
   "metadata": {},
   "source": [
    "# plot 2D beam distribution"
   ]
  },
  {
   "cell_type": "code",
   "execution_count": 41,
   "id": "7aa274c1",
   "metadata": {},
   "outputs": [],
   "source": [
    "import numpy as np\n",
    "import matplotlib.pyplot as plt\n"
   ]
  },
  {
   "cell_type": "code",
   "execution_count": 48,
   "id": "bfa9539a",
   "metadata": {},
   "outputs": [],
   "source": [
    "filein=\"beam_profile.txt\"\n",
    "\n",
    "# bin surface [m2] = WIRESCAN_wRes*WIRESCAN_wWidth:\n",
    "sbin=30e-6*2e-4"
   ]
  },
  {
   "cell_type": "code",
   "execution_count": 49,
   "id": "ad494975",
   "metadata": {},
   "outputs": [],
   "source": [
    "cstepn=0\n",
    "cbinn=0\n",
    "cflux=0.0\n",
    "totsum=0.0\n",
    "x=[]\n",
    "y=[]\n",
    "Z=[]\n",
    "with open(filein,'r') as fin:\n",
    "    for idx,line in enumerate(fin):\n",
    "        #print(idx)\n",
    "        if 'simstep' in line:\n",
    "            cstepn=int(line.split()[1])\n",
    "            #print(line.split()[1])\n",
    "        else:\n",
    "            #if idx==9:\n",
    "            #    print(line.strip().split(','))\n",
    "            cbinn=int(line.strip().split(',')[1])\n",
    "            cflux=float(line.strip().split(',')[2])\n",
    "        x.append(cstepn)\n",
    "        y.append(cbinn)\n",
    "        Z.append(cflux*sbin)\n",
    "        totsum+=cflux"
   ]
  },
  {
   "cell_type": "code",
   "execution_count": 50,
   "id": "389ba238",
   "metadata": {},
   "outputs": [
    {
     "name": "stdout",
     "output_type": "stream",
     "text": [
      "3000000\n",
      "3000000\n",
      "3000000\n",
      "2.34569902610338e+23\n",
      "5.6296776626481116e+20\n"
     ]
    }
   ],
   "source": [
    "print(len(x))\n",
    "print(len(y))\n",
    "print(len(Z))\n",
    "print(totsum)\n",
    "print(totsum*0.01*0.24) # for PSI MBPTWS\n"
   ]
  },
  {
   "cell_type": "code",
   "execution_count": 45,
   "id": "1745a405",
   "metadata": {},
   "outputs": [
    {
     "data": {
      "text/plain": [
       "(array([[1.45435273e+11, 0.00000000e+00, 0.00000000e+00, ...,\n",
       "         0.00000000e+00, 0.00000000e+00, 3.15577307e-65],\n",
       "        [2.68737370e+11, 0.00000000e+00, 0.00000000e+00, ...,\n",
       "         0.00000000e+00, 0.00000000e+00, 6.66470946e-65],\n",
       "        [4.92576327e+11, 0.00000000e+00, 0.00000000e+00, ...,\n",
       "         0.00000000e+00, 0.00000000e+00, 1.40549084e-64],\n",
       "        ...,\n",
       "        [6.66399758e-66, 0.00000000e+00, 0.00000000e+00, ...,\n",
       "         0.00000000e+00, 0.00000000e+00, 1.42660032e-64],\n",
       "        [3.16007785e-66, 0.00000000e+00, 0.00000000e+00, ...,\n",
       "         0.00000000e+00, 0.00000000e+00, 6.76501142e-65],\n",
       "        [1.49627027e-66, 0.00000000e+00, 0.00000000e+00, ...,\n",
       "         0.00000000e+00, 0.00000000e+00, 3.20320007e-65]]),\n",
       " array([1.0000000e+00, 1.0099900e+02, 2.0099800e+02, ..., 9.9800002e+04,\n",
       "        9.9900001e+04, 1.0000000e+05]),\n",
       " array([0.   , 0.008, 0.016, ..., 7.984, 7.992, 8.   ]),\n",
       " <matplotlib.collections.QuadMesh at 0x165b59410>)"
      ]
     },
     "execution_count": 45,
     "metadata": {},
     "output_type": "execute_result"
    },
    {
     "data": {
      "image/png": "[encoded data removed]",
      "text/plain": [
       "<Figure size 640x480 with 1 Axes>"
      ]
     },
     "metadata": {},
     "output_type": "display_data"
    }
   ],
   "source": [
    "#plt.contourf(np.array(x),y,Z,100)\n",
    "#plt.pcolormesh(x,y,Z)\n",
    "plt.hist2d(x,y,bins=1000,weights=Z)"
   ]
  },
  {
   "cell_type": "code",
   "execution_count": null,
   "id": "1d77420b",
   "metadata": {},
   "outputs": [],
   "source": []
  }
 ],
 "metadata": {
  "kernelspec": {
   "display_name": "Python 3 (ipykernel)",
   "language": "python",
   "name": "python3"
  },
  "language_info": {
   "codemirror_mode": {
    "name": "ipython",
    "version": 3
   },
   "file_extension": ".py",
   "mimetype": "text/x-python",
   "name": "python",
   "nbconvert_exporter": "python",
   "pygments_lexer": "ipython3",
   "version": "3.11.7"
  }
 },
 "nbformat": 4,
 "nbformat_minor": 5
}
