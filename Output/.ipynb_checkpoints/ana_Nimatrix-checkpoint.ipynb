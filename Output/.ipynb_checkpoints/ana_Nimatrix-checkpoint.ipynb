{
 "cells": [
  {
   "cell_type": "markdown",
   "id": "6d5c7def",
   "metadata": {},
   "source": [
    "# analyze Nimatrix.txt"
   ]
  },
  {
   "cell_type": "code",
   "execution_count": 1,
   "id": "7f8ee743",
   "metadata": {},
   "outputs": [],
   "source": [
    "import numpy as np\n",
    "import matplotlib.pyplot as plt\n",
    "\n",
    "%matplotlib notebook"
   ]
  },
  {
   "cell_type": "code",
   "execution_count": 28,
   "id": "3433bd5c",
   "metadata": {},
   "outputs": [
    {
     "name": "stdout",
     "output_type": "stream",
     "text": [
      "63.69426751592356\n"
     ]
    }
   ],
   "source": [
    "# this file is created in TempPhysicalModels.py\n",
    "filein=\"Nimatrix.txt\"\n",
    "\n",
    "\n",
    "# bin surface [m2] = WIRESCAN_wRes*WIRESCAN_wWidth:\n",
    "sbin=30e-6*2e-4\n",
    "dt=0.471e-6\n",
    "v=1.0          # [m/s]\n",
    "ds=v*dt\n",
    "print(30e-6/ds)"
   ]
  },
  {
   "cell_type": "code",
   "execution_count": 34,
   "id": "35217782",
   "metadata": {},
   "outputs": [
    {
     "name": "stdout",
     "output_type": "stream",
     "text": [
      "total:  0.9476951499332641\n"
     ]
    }
   ],
   "source": [
    "totsum=0.0\n",
    "with open(filein,'r') as fin:\n",
    "    for idx,line in enumerate(fin):\n",
    "        if \"Sum:\" in line:\n",
    "            #print(float(line.split(\":\")[1]))\n",
    "            totsum+=float(line.split(\":\")[1])*dt*2e-4  # looks like a good line!!! don't modify! dt=ds here!\n",
    "            \n",
    "print(\"total: \",totsum)            "
   ]
  },
  {
   "cell_type": "code",
   "execution_count": 35,
   "id": "6c85356f",
   "metadata": {},
   "outputs": [
    {
     "name": "stdout",
     "output_type": "stream",
     "text": [
      "1.0551916405506763\n"
     ]
    }
   ],
   "source": [
    "print(1/totsum)"
   ]
  },
  {
   "cell_type": "code",
   "execution_count": null,
   "id": "95194203",
   "metadata": {},
   "outputs": [],
   "source": [
    "#plot 2D distribution!!!"
   ]
  }
 ],
 "metadata": {
  "kernelspec": {
   "display_name": "Python 3 (ipykernel)",
   "language": "python",
   "name": "python3"
  },
  "language_info": {
   "codemirror_mode": {
    "name": "ipython",
    "version": 3
   },
   "file_extension": ".py",
   "mimetype": "text/x-python",
   "name": "python",
   "nbconvert_exporter": "python",
   "pygments_lexer": "ipython3",
   "version": "3.11.7"
  }
 },
 "nbformat": 4,
 "nbformat_minor": 5
}
