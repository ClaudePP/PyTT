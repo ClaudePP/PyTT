{
 "cells": [
  {
   "cell_type": "markdown",
   "id": "65876aa8",
   "metadata": {},
   "source": [
    "# plot SEM currents\n",
    "\n",
    "\n",
    "file structure:\n",
    "\n",
    "\n",
    "#   Time [us]  |  WirePos [cm]   | Intensity [mA] #\n",
    "0.0   [ 0.0,  ]    [ 0.0,  ] \n",
    "1.0   [ 0.0,  ]    [ -1.3207894387877336e-06,  ] \n",
    "\n",
    "\n"
   ]
  },
  {
   "cell_type": "code",
   "execution_count": null,
   "id": "be8d03ae",
   "metadata": {},
   "outputs": [],
   "source": [
    "import matplotlib.pyplot as plt\n",
    "import pandas as pd\n"
   ]
  },
  {
   "cell_type": "code",
   "execution_count": null,
   "id": "dec6fc8b",
   "metadata": {},
   "outputs": [],
   "source": [
    "# this wont easily work for SEM-grid output\n",
    "#df = pd.read_csv(\"IntensityVSTime_Emi.txt\", skiprows=3, delim_whitespace=True, names=[\"em\",\"time\",\"maxT\"])"
   ]
  },
  {
   "cell_type": "code",
   "execution_count": 6,
   "id": "61de48c5",
   "metadata": {},
   "outputs": [
    {
     "name": "stderr",
     "output_type": "stream",
     "text": [
      "IOPub data rate exceeded.\n",
      "The notebook server will temporarily stop sending output\n",
      "to the client in order to avoid crashing it.\n",
      "To change this limit, set the config variable\n",
      "`--NotebookApp.iopub_data_rate_limit`.\n",
      "\n",
      "Current values:\n",
      "NotebookApp.iopub_data_rate_limit=1000000.0 (bytes/sec)\n",
      "NotebookApp.rate_limit_window=3.0 (secs)\n",
      "\n"
     ]
    }
   ],
   "source": [
    "filein = open('IntensityVSTime_Emi.txt', 'r')\n",
    "wpos=[]\n",
    "wsig=[]\n",
    "for lnr,lne in enumerate(filein):\n",
    "    print(lnr,lne)\n",
    "    if lnr>2:\n",
    "        tme,wpos,wsig=lne.split(\"   \")"
   ]
  },
  {
   "cell_type": "code",
   "execution_count": null,
   "id": "2b5f1fd2",
   "metadata": {},
   "outputs": [],
   "source": []
  }
 ],
 "metadata": {
  "kernelspec": {
   "display_name": "Python 3 (ipykernel)",
   "language": "python",
   "name": "python3"
  },
  "language_info": {
   "codemirror_mode": {
    "name": "ipython",
    "version": 3
   },
   "file_extension": ".py",
   "mimetype": "text/x-python",
   "name": "python",
   "nbconvert_exporter": "python",
   "pygments_lexer": "ipython3",
   "version": "3.11.5"
  }
 },
 "nbformat": 4,
 "nbformat_minor": 5
}
